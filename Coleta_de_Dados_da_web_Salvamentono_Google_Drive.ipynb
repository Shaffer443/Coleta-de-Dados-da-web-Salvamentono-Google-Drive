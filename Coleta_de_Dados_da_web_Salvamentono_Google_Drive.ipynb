{
  "cells": [
    {
      "cell_type": "markdown",
      "metadata": {
        "id": "view-in-github",
        "colab_type": "text"
      },
      "source": [
        "<a href=\"https://colab.research.google.com/github/Shaffer443/Coleta-de-Dados-da-web-Salvamentono-Google-Drive/blob/googlecolab/Coleta_de_Dados_da_web_Salvamentono_Google_Drive.ipynb\" target=\"_parent\"><img src=\"https://colab.research.google.com/assets/colab-badge.svg\" alt=\"Open In Colab\"/></a>"
      ]
    },
    {
      "cell_type": "markdown",
      "metadata": {
        "id": "HhIe3tQzqkle"
      },
      "source": [
        "**Coletada de dados web com python**\n",
        "\n",
        "instalações:\n",
        "\n",
        "- pip install requests </br>\n",
        "- pip install Beautifulsoup4 (! pip install beautifulsoup4) </br></br>\n",
        "\n",
        "links uteis: <br>\n",
        "https://acervolima.com/instalacao-do-beautifulsoup-python/ </br>\n",
        "https://www.youtube.com/watch?v=QzD86JyeKXE </br>\n",
        "https://www.crummy.com/software/BeautifulSoup/bs4/doc.ptbr/ </br>\n",
        "https://algoritmosempython.com.br/cursos/programacao-python/strings/\n"
      ]
    },
    {
      "cell_type": "markdown",
      "metadata": {
        "id": "PTruLZm0RG6H"
      },
      "source": [
        "**Google Colab e Planilha google integrados**\n",
        "\n",
        "link: https://www.youtube.com/watch?v=YaCeqXpxWUk\n",
        "\n",
        "<mark>Instalando gspread:</mark>\n",
        "\n",
        "!pip install gspread\n",
        "\n",
        "<mark>Importando as bibliotecas:</mark>\n",
        "\n",
        "from google.colab import auth </br>\n",
        "from oauth2client.client import GoogleCredentials\n",
        "\n",
        "<mark> precisei instalar</mark> </br>\n",
        "!pip install selenium\n",
        "\n",
        "extras:\n",
        "\n",
        "https://stackoverflow.com/questions/71686960/typeerror-credentials-need-to-be-from-either-oauth2client-or-from-google-auth </br>\n",
        "\n",
        "https://github.com/burnash/gspread/issues/1014#issuecomment-1082536016\n",
        "\n",
        "**Documentação**\n",
        "\n",
        "https://docs.gspread.org/en/latest/\n"
      ]
    },
    {
      "cell_type": "code",
      "execution_count": null,
      "metadata": {
        "colab": {
          "base_uri": "https://localhost:8080/"
        },
        "id": "eNiVMz_8auYY",
        "outputId": "a6307d1d-ce64-463d-956f-83a9abe50c01"
      },
      "outputs": [
        {
          "name": "stdout",
          "output_type": "stream",
          "text": [
            "Looking in indexes: https://pypi.org/simple, https://us-python.pkg.dev/colab-wheels/public/simple/\n",
            "Requirement already satisfied: selenium in /usr/local/lib/python3.7/dist-packages (4.4.3)\n",
            "Requirement already satisfied: urllib3[socks]~=1.26 in /usr/local/lib/python3.7/dist-packages (from selenium) (1.26.12)\n",
            "Requirement already satisfied: trio~=0.17 in /usr/local/lib/python3.7/dist-packages (from selenium) (0.21.0)\n",
            "Requirement already satisfied: trio-websocket~=0.9 in /usr/local/lib/python3.7/dist-packages (from selenium) (0.9.2)\n",
            "Requirement already satisfied: certifi>=2021.10.8 in /usr/local/lib/python3.7/dist-packages (from selenium) (2022.6.15)\n",
            "Requirement already satisfied: async-generator>=1.9 in /usr/local/lib/python3.7/dist-packages (from trio~=0.17->selenium) (1.10)\n",
            "Requirement already satisfied: outcome in /usr/local/lib/python3.7/dist-packages (from trio~=0.17->selenium) (1.2.0)\n",
            "Requirement already satisfied: sniffio in /usr/local/lib/python3.7/dist-packages (from trio~=0.17->selenium) (1.2.0)\n",
            "Requirement already satisfied: idna in /usr/local/lib/python3.7/dist-packages (from trio~=0.17->selenium) (2.10)\n",
            "Requirement already satisfied: attrs>=19.2.0 in /usr/local/lib/python3.7/dist-packages (from trio~=0.17->selenium) (22.1.0)\n",
            "Requirement already satisfied: sortedcontainers in /usr/local/lib/python3.7/dist-packages (from trio~=0.17->selenium) (2.4.0)\n",
            "Requirement already satisfied: wsproto>=0.14 in /usr/local/lib/python3.7/dist-packages (from trio-websocket~=0.9->selenium) (1.2.0)\n",
            "Requirement already satisfied: PySocks!=1.5.7,<2.0,>=1.5.6 in /usr/local/lib/python3.7/dist-packages (from urllib3[socks]~=1.26->selenium) (1.7.1)\n",
            "Requirement already satisfied: h11<1,>=0.9.0 in /usr/local/lib/python3.7/dist-packages (from wsproto>=0.14->trio-websocket~=0.9->selenium) (0.13.0)\n",
            "Requirement already satisfied: typing-extensions in /usr/local/lib/python3.7/dist-packages (from h11<1,>=0.9.0->wsproto>=0.14->trio-websocket~=0.9->selenium) (4.1.1)\n"
          ]
        }
      ],
      "source": [
        "#instaladores:\n",
        "\n",
        "!pip install selenium\n",
        "\n"
      ]
    },
    {
      "cell_type": "code",
      "execution_count": null,
      "metadata": {
        "id": "znkyhJlCqjq8"
      },
      "outputs": [],
      "source": [
        "# biblioteca:\n",
        "\n",
        "import requests\n",
        "import gspread\n",
        "import selenium\n",
        "import pandas as pd\n",
        "\n",
        "# rodou assim sem instalar\n",
        "\n",
        "from bs4 import BeautifulSoup\n",
        "from google.colab import auth \n",
        "from google.auth import default\n",
        "creds, _ = default()\n",
        "# from oauth2client.client import GoogleCredentials\n",
        "\n",
        "#Teste\n",
        "\n",
        "from selenium import webdriver\n",
        "#from selenium.webdriver.common.keys import by\n",
        "from selenium.webdriver.common.by import By\n"
      ]
    },
    {
      "cell_type": "code",
      "execution_count": null,
      "metadata": {
        "id": "-AcCtj6WTEYS"
      },
      "outputs": [],
      "source": [
        "# solicitando autenticação:\n",
        "# vai gerar uma autenticação e uma senha para validação\n",
        "\n",
        "auth.authenticate_user()\n",
        "\n",
        "gc = gspread.authorize(creds)"
      ]
    },
    {
      "cell_type": "code",
      "execution_count": null,
      "metadata": {
        "colab": {
          "base_uri": "https://localhost:8080/"
        },
        "id": "rVsRshz1Yb3k",
        "outputId": "ac30ece9-5c7c-45df-b323-469e49244c68"
      },
      "outputs": [
        {
          "data": {
            "text/plain": [
              "<Spreadsheet 'DadosTorneio' id:1mRsxpQN2Fv1HVNbUGmknAjo4swxG0pZrjkgi8fZbpzE>"
            ]
          },
          "execution_count": 52,
          "metadata": {},
          "output_type": "execute_result"
        }
      ],
      "source": [
        "#criando planilha\n",
        "\n",
        "gc.create('DadosTorneio')"
      ]
    },
    {
      "cell_type": "code",
      "execution_count": null,
      "metadata": {
        "id": "-3AUFYaYw9Qw"
      },
      "outputs": [],
      "source": [
        "# main:\n",
        "\n",
        "site = requests.get(\"https://www.soccerstats.com/latest.asp?league=england\")\n",
        "site.encoding='utf-8' # deixar no padrão utf-8\n",
        "soup = BeautifulSoup(site.text, 'html.parser') # faz com que o entenda o texto do site (site.text) como os objetos incluidos de html\n",
        "                                                # podemos pegar as tags do site \n",
        "tabelageral = soup.find_all(class_=\"trow3\") # encontrar tudo (find_all), passar o parâmetro om o obejeto e nome dado a ele, restornando em array\n",
        "                                            #exemplo: cotacaoodds = soup.find_all(class_=\"trow3\") \n",
        "                                            # um filtro de tags que nos interessa na busca\n",
        "                                            #find_all == encontra todos os atributos | find = o primeiro que encontrar\n",
        "\n",
        "\n"
      ]
    },
    {
      "cell_type": "code",
      "execution_count": null,
      "metadata": {
        "colab": {
          "base_uri": "https://localhost:8080/"
        },
        "id": "LDGIYwHbwWb3",
        "outputId": "5cf8e1c4-cd9b-4989-f7ea-d647c9c1fd47"
      },
      "outputs": [
        {
          "name": "stdout",
          "output_type": "stream",
          "text": [
            "[<b>40</b>] - <b>40</b>\n",
            "1\n",
            "1\n",
            "[<b>40</b>]\n",
            "[<b>48%</b>, <b>80%</b>]\n",
            "[<b>28%</b>, <b>55%</b>]\n",
            "[<b>25%</b>, <b>32%</b>]\n",
            "[<b>118</b>, <b>1.80</b>]\n",
            "[<b>2.95</b>, <b>1.15</b>]\n",
            "[<b>52%</b>]\n"
          ]
        }
      ],
      "source": [
        "#teste:\n",
        "\n",
        "#link = requests.get(\"<b>76%</b>\")\n",
        "\n",
        "#porcentagem = site.find_element(By.XPATH,'/html/body/div[1]/div[2]/table[2]/tbody/tr/td/table[1]/tbody/tr/td[2]/table/tbody/tr[1]/b').get_attribute(\"name\")\n",
        "\n",
        "#print(link)\n",
        "\n",
        " #fim do teste#                                           \n",
        "\n",
        "dadosgerais=[]\n",
        "#porcentagem=[]\n",
        "for dados in tabelageral: # varrendo dados\n",
        "  #print(dados.find('td')) # filtrando a varredura por uma tag\n",
        "  #indicador = dados.find(\"td\")\n",
        "  #porc = indicador.b.text\n",
        "  info = dados.find_all(\"b\")\n",
        "  #conteudo = dados.b.string\n",
        "  #percentual = info.b.text\n",
        "  dadosgerais.append(info)\n",
        "  #porcentagem.append(conteudo)\n",
        "  #dadosgerais.append(conteudo)\n",
        "\n",
        "#print(\"{}\".split(dadosgerais[2]))\n",
        "\n",
        "\n",
        "teste = dadosgerais[2]\n",
        "tirandodalista = teste[-1] # tirando da lista\n",
        "print(\"{} - {}\".format(teste, tirandodalista))\n",
        "print(len(tirandodalista)) # problema é que está não como uma string e sim um unico dado\n",
        "print(len(teste))\n",
        "\n",
        "print(dadosgerais[2])  #jogos jogados\n",
        "print(dadosgerais[5])  #pegando win - over 1,5\n",
        "print(dadosgerais[6])  #pegando draw - over 2,5\n",
        "print(dadosgerais[7])  #pegando red - over 3,5\n",
        "print(dadosgerais[8])  #Goals totais: - Home goals per match: \n",
        "print(dadosgerais[9])  #Goals per match: - Away goals per match:  \t\n",
        "print(dadosgerais[10]) # Ambos marcam\n",
        "\n",
        "##abrir = gc.open('planilhateste')\n",
        "##salvando = abrir.get_worksheet(0)\n",
        "\n",
        "#salvando.update_acell('c4',\"testando salvamento de dados\") \n",
        "#salvando.update_acell('c5', \"{}\".format(conteudo))\n",
        "#salvando.update_acell('c7', \"{}\".format(dadosgerais[2]))\n",
        "#salvando.update_acell('c5',dadosgerais[2]) # não está pegando a lista para salvar\n",
        "#salvando.update_acell('c6',dadosgerais[5])\n",
        "#salvando.update_acell('c7',dadosgerais[6])\n",
        "#salvando.update_acell('c8',dadosgerais[7])\n",
        "#salvando.update_acell('c9',dadosgerais[8])\n",
        "#salvando.update_acell('c10',dadosgerais[9])\n",
        "#salvando.update_acell('c11',dadosgerais[10])\n",
        "\n",
        "\n",
        "\n",
        "#  escrever.write(\" Partidas jogadas: {}\".format(dadosgerais[2]))\n",
        "\n",
        "#escrever.clese()\n",
        "#print(tabelageral) # podemos passar a array [0] ou [1] ou [2], etc. rerferente ao nosso class alvo\n",
        "                    # print(cotacaoodds[1])\n",
        "#print(soup)\n",
        "\n",
        "# print(site.text) #mostra todo html do site em texto\n",
        "\n",
        "# print(site) # print q informa a resposta,se há ou não conexão. Se a resposta for <200> significa q esta conseguindo acessar o link"
      ]
    },
    {
      "cell_type": "code",
      "execution_count": null,
      "metadata": {
        "colab": {
          "base_uri": "https://localhost:8080/"
        },
        "id": "EIfnRvC6iguq",
        "outputId": "b1b41313-4e17-4f9a-bb7f-9917d8b97e09"
      },
      "outputs": [
        {
          "name": "stdout",
          "output_type": "stream",
          "text": [
            "\n",
            "\n",
            "\n",
            "                 0                    1         2        3         4   \\\n",
            "0  Jogos do Torneio           Casa Ganha  Over 1,5  Empates  Over 2,5   \n",
            "1     [Home / Away]  [% Points per game]       [W]      [D]       [L]   \n",
            "2              [40]                [48%]     [80%]    [28%]     [55%]   \n",
            "\n",
            "                5         6              7                     8   \\\n",
            "0  Visitante Ganha  Over 3,5  Total de Gols  Gols por jogo - Casa   \n",
            "1             [TG]    [2.5+]       [Last 4]                  None   \n",
            "2            [25%]     [32%]          [118]                [1.80]   \n",
            "\n",
            "              9                          10            11  \n",
            "0  Gols por Jogo  Gols por Jogo - Visitante  Ambos Marcam  \n",
            "1           None                       None          None  \n",
            "2         [2.95]                     [1.15]         [52%]  \n",
            "\n",
            "\n",
            "\n"
          ]
        }
      ],
      "source": [
        "#Data Frame:\n",
        "\n",
        "#Tabela pré contagem:\n",
        "\n",
        "#dt=pd.DataFrame(tabelageral)\n",
        "#print(dt)\n",
        "#print(dt.columns)\n",
        "\n",
        "#Tabela Pró Contagem:\n",
        "\n",
        "dtpos=pd.DataFrame(dadosgerais)\n",
        "#print(dtpos)\n",
        "#print(\"\\n\")\n",
        "#print(dtpos.head)\n",
        "#print(\"\\n\\n\")\n",
        "\n",
        "novaselecao = pd.DataFrame({0:'Jogos do Torneio', 1:'Casa Ganha', 2:'Over 1,5', \n",
        "                            3:'Empates', 4:'Over 2,5', 5:'Visitante Ganha', \n",
        "                            6:'Over 3,5', 7:'Total de Gols', 8:'Gols por jogo - Casa', \n",
        "                            9:'Gols por Jogo', 10:'Gols por Jogo - Visitante', 11:'Ambos Marcam'},index =[0])\n",
        "\n",
        "dfselect = pd.concat([novaselecao,dtpos]).reset_index(drop = True)\n",
        "#print(dfselect)\n",
        "print(\"\\n\\n\")\n",
        "newdados= dfselect.head(3)\n",
        "print(newdados)\n",
        "print(\"\\n\\n\")\n",
        "#print(dfselect.columns)\n",
        "\n",
        "\n",
        "\n",
        "\n"
      ]
    },
    {
      "cell_type": "code",
      "execution_count": null,
      "metadata": {
        "colab": {
          "base_uri": "https://localhost:8080/"
        },
        "id": "k-dQ3la18zZO",
        "outputId": "8d79dac3-f0e3-4d00-f1cd-caa53e17ff03"
      },
      "outputs": [
        {
          "output_type": "stream",
          "name": "stdout",
          "text": [
            "Ambos Marcam\n",
            "52%\n"
          ]
        }
      ],
      "source": [
        "#Colocando dados do data frame em uma variável\n",
        "\n",
        "#loc = linhas\n",
        "#iloc= coluna\n",
        "\n",
        "#-----------------------------------\n",
        "#coluna 0 - Linha 2 (total de jogos do torneio)\n",
        "\n",
        "one = newdados.loc[0,0] \n",
        "one2 = newdados.loc[2,0]\n",
        "trans_one2 = list(one2)\n",
        "f_one2=trans_one2[0]\n",
        "\n",
        "#-----------------------------------\n",
        "#coluna 1 - Linha 2 ( Casa Ganha)\n",
        "\n",
        "two = newdados.loc[0,1] \n",
        "two2 = newdados.loc[2,1]\n",
        "trans_two2 = list(two2)\n",
        "f_two2=trans_two2[0]\n",
        "\n",
        "\n",
        "#-----------------------------------\n",
        "#coluna 2 - Linha 2 (Over 1,5)\n",
        "\n",
        "tree = newdados.loc[0,2] \n",
        "tree2 = newdados.loc[2,2]\n",
        "trans_tree2 = list(tree2)\n",
        "f_tree2=trans_tree2[0]\n",
        "\n",
        "#-----------------------------------\n",
        "#coluna 3 - Linha 2 (Empates)\n",
        "\n",
        "four = newdados.loc[0,3] \n",
        "four2 = newdados.loc[2,3]\n",
        "trans_four2 = list(four2)\n",
        "f_four2=trans_four2[0]\n",
        "\n",
        "#-----------------------------------\n",
        "#coluna 4 - Linha 2 (Over 2,5)\n",
        "\n",
        "five = newdados.loc[0,4] \n",
        "five2 = newdados.loc[2,4]\n",
        "trans_five2 = list(five2)\n",
        "f_five2=trans_five2[0]\n",
        "\n",
        "#-----------------------------------\n",
        "#coluna 5 - Linha 2 (Visitante Ganha)\n",
        "\n",
        "six = newdados.loc[0,5] \n",
        "six2 = newdados.loc[2,5]\n",
        "trans_six2 = list(six2)\n",
        "f_six2=trans_six2[0]\n",
        "\n",
        "#-----------------------------------\n",
        "#coluna 6 - Linha 2 (Over 3,5)\n",
        "\n",
        "seven = newdados.loc[0,6] \n",
        "seven2 = newdados.loc[2,6]\n",
        "trans_seven2 = list(seven2)\n",
        "f_seven2=trans_seven2[0]\n",
        "\n",
        "#-----------------------------------\n",
        "#coluna 7 - Linha 2 (Total Gols Torneios)\n",
        "\n",
        "eight = newdados.loc[0,7] \n",
        "eight2 = newdados.loc[2,7]\n",
        "trans_eight2 = list(eight2)\n",
        "f_eight2=trans_eight2[0]\n",
        "\n",
        "#-----------------------------------\n",
        "#coluna 8 - Linha 2 (Média - Gols Time da Casa)\n",
        "\n",
        "nine = newdados.loc[0,8] \n",
        "nine2 = newdados.loc[2,8]\n",
        "trans_nine2 = list(nine2)\n",
        "f_nine2=trans_nine2[0]\n",
        "\n",
        "#-----------------------------------\n",
        "#coluna 9 - Linha 2 (Média Gols por jogo)\n",
        "\n",
        "ten = newdados.loc[0,9] \n",
        "ten2 = newdados.loc[2,9]\n",
        "trans_ten2 = list(ten2)\n",
        "f_ten2=trans_ten2[0]\n",
        "\n",
        "\n",
        "#-----------------------------------\n",
        "#coluna 10 - Linha 2 (Média - Gols Time da Visitante)\n",
        "\n",
        "eleven = newdados.loc[0,10] \n",
        "eleven2 = newdados.loc[2,10]\n",
        "trans_eleven2 = list(eleven2)\n",
        "f_eleven2=trans_eleven2[0]\n",
        "\n",
        "#-----------------------------------\n",
        "#coluna 11 - Linha 2 (Ambos Marcam)\n",
        "\n",
        "twelve = newdados.loc[0,11] \n",
        "twelve2 = newdados.loc[2,11]\n",
        "trans_twelve2 = list(twelve2)\n",
        "f_twelve2=trans_twelve2[0]\n",
        "\n",
        "#-----------------------------------\n",
        "\n",
        "#print(twelve)\n",
        "#print(f_twelve2)\n",
        "\n"
      ]
    },
    {
      "cell_type": "code",
      "execution_count": null,
      "metadata": {
        "colab": {
          "base_uri": "https://localhost:8080/"
        },
        "id": "o79pExw0vEP9",
        "outputId": "517b0c78-2ae6-42df-c51c-dbbf59a6c653"
      },
      "outputs": [
        {
          "output_type": "execute_result",
          "data": {
            "text/plain": [
              "{'spreadsheetId': '1mRsxpQN2Fv1HVNbUGmknAjo4swxG0pZrjkgi8fZbpzE',\n",
              " 'updatedRange': \"'Página1'!A3:L4\",\n",
              " 'updatedRows': 2,\n",
              " 'updatedColumns': 12,\n",
              " 'updatedCells': 24}"
            ]
          },
          "metadata": {},
          "execution_count": 215
        }
      ],
      "source": [
        "#Salvar no Google Drive:\n",
        "\n",
        "abrir = gc.open('DadosTorneio').sheet1\n",
        "\n",
        "abrir.update('A1', \"Premier League - Temporada 22/23\")\n",
        "abrir.update('A3',[[one, two, four, six, tree, five, seven, twelve, eight, ten, nine, eleven],\n",
        "                   [f_one2, f_two2, f_four2, f_six2, f_tree2, f_five2,f_seven2, f_twelve2, f_eight2, f_ten2, f_nine2, f_eleven2]])\n",
        "\n",
        "\n",
        "#salvando2 = abrir.gc.update('A1', newdados)\n",
        "#salvando = abrir.get_worksheet(newdados)\n",
        "#salvando = abrir.get_worksheet(0)"
      ]
    },
    {
      "cell_type": "markdown",
      "metadata": {
        "id": "-PHQEf02uLdc"
      },
      "source": [
        "/html/body/div[1]/div[2]/table[2]/tbody/tr/td/table[1]/tbody/tr/td[2]/table/tbody/tr[1]/td[5]/b"
      ]
    }
  ],
  "metadata": {
    "colab": {
      "collapsed_sections": [],
      "name": "Coleta de Dados da web-Salvamentono Google Drive",
      "provenance": [],
      "authorship_tag": "ABX9TyO8/l7/XGJoE4KwMhKHvMWB",
      "include_colab_link": true
    },
    "kernelspec": {
      "display_name": "Python 3",
      "name": "python3"
    },
    "language_info": {
      "name": "python"
    }
  },
  "nbformat": 4,
  "nbformat_minor": 0
}